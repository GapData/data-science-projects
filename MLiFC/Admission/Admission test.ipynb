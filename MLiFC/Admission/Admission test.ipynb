{
 "cells": [
  {
   "cell_type": "markdown",
   "metadata": {},
   "source": [
    "# Python requirements for MLiFC\n",
    "\n",
    "Welcome to MLiFC where you will learn about modern machine learning techniques in financial context. The course requires basic python as a perquisite. In this notebook you will find some exercises and tips. If you manage to do all the exercises, you should be prepared for the course. If you have trouble with these exercises, I recommend doing a python tutorial before you take this class. Some good ones are [Automate the boring stuff with Python](http://automatetheboringstuff.com/) or [codecademy's python tutorial](https://www.codecademy.com/learn/learn-python). If you have some experience with R, Matlab or some other language already it might be enough for you to just look up the specific syntax. I like the examples from [tutorialspoint](https://www.tutorialspoint.com/python3/index.htm) and the [official python documentation](https://docs.python.org/3/)."
   ]
  },
  {
   "cell_type": "markdown",
   "metadata": {},
   "source": [
    "## Setup\n",
    "\n",
    "The first exercise is to simply get this notebook running on your local machine. You can find an installation guide [here](http://jupyter.readthedocs.io/en/latest/install.html). I strongly recommend using Anaconda. My code is written in Python 3, to follow the exercises install anaconda 3.6\n",
    "\n",
    "Once you have completed the install, you can download this notebook from GitHub. Start jupyter locally and navigate to the folder where you have stored this notebook. If you have trouble launching the notebook, refer to the [Jupyter beginner guide](https://jupyter-notebook-beginner-guide.readthedocs.io/en/latest/)."
   ]
  },
  {
   "cell_type": "markdown",
   "metadata": {},
   "source": [
    "## Simple maths\n",
    "To warm up, let's do some simple maths. \n",
    "Calculate: \n",
    "\n",
    "$$\\frac{(24 + 5)^3}{5}$$"
   ]
  },
  {
   "cell_type": "code",
   "execution_count": 1,
   "metadata": {},
   "outputs": [],
   "source": [
    "# Code Goes Here\n"
   ]
  },
  {
   "cell_type": "markdown",
   "metadata": {},
   "source": [
    "|Expexted Result|\n",
    "|---------------|\n",
    "|4877.8         |"
   ]
  },
  {
   "cell_type": "markdown",
   "metadata": {},
   "source": [
    "## Defining Functions\n",
    "Now lets take the term above and turn it into a function.\n",
    "Define the following as a python function: \n",
    "\n",
    "$$f(a,b,c,d) = \\frac{(a + b)^c}{d}$$ "
   ]
  },
  {
   "cell_type": "code",
   "execution_count": 2,
   "metadata": {
    "collapsed": true
   },
   "outputs": [],
   "source": [
    "# Code goes here\n"
   ]
  },
  {
   "cell_type": "markdown",
   "metadata": {},
   "source": [
    "## Loops\n",
    "Loops play an important role in machine learning, as we have to go over data over and over again. Now, let's loop over the values 1 to 10 for a while setting \n",
    "```python\n",
    "b= 1; c = 2; d = 3\n",
    "``` \n",
    "Print all results."
   ]
  },
  {
   "cell_type": "code",
   "execution_count": 3,
   "metadata": {},
   "outputs": [],
   "source": [
    "#Code goes here\n"
   ]
  },
  {
   "cell_type": "markdown",
   "metadata": {},
   "source": [
    "|Expected Results|\n",
    "|----------------|\n",
    "|1.33333333333333|\n",
    "|3.0             |\n",
    "|5.33333333333333|\n",
    "|8.33333333333333|\n",
    "|12.0            |\n",
    "|16.3333333333333|\n",
    "|21.3333333333333|\n",
    "|27.0            |\n",
    "|33.3333333333333|\n",
    "|40.3333333333333|"
   ]
  },
  {
   "cell_type": "markdown",
   "metadata": {},
   "source": [
    "## If statements\n",
    "\n",
    "Run the same loop as above, but this time exclude all values of a that are multiples of 3 and sum up the result.\n",
    "\n",
    "\n",
    "\\begin{equation*}\n",
    "f(a,b,c,d) =     \n",
    "  \\begin{cases}\n",
    "      0  & \\text{ if }a\\pmod 3 = 0 \\\\\n",
    "       \\frac{(a + b)^c}{d} & \\text{ else} \\\\\n",
    "  \\end{cases}\n",
    "\\end{equation*}\n",
    "\n",
    "$$\\sum_{a=1}^{10} f(a,b,c,d)$$"
   ]
  },
  {
   "cell_type": "code",
   "execution_count": 4,
   "metadata": {},
   "outputs": [],
   "source": [
    "# Code goes here\n"
   ]
  },
  {
   "cell_type": "markdown",
   "metadata": {},
   "source": [
    "|Expected Result|\n",
    "|---------------|\n",
    "|113.33333333333|"
   ]
  },
  {
   "cell_type": "markdown",
   "metadata": {},
   "source": [
    "## Lists\n",
    "Repeat the previous exercise but this time save all results to a [list](https://docs.python.org/2/tutorial/datastructures.html). Once you have the list, print the 3rd, 7th, and 8th item in the list."
   ]
  },
  {
   "cell_type": "code",
   "execution_count": 5,
   "metadata": {},
   "outputs": [],
   "source": [
    "#Code goes here\n"
   ]
  },
  {
   "cell_type": "markdown",
   "metadata": {},
   "source": [
    "|Expected Result|\n",
    "|---------------|\n",
    "|[1.3333333333333333, 3.0, 5.333333333333333, 8.333333333333334, 12.0, 16.333333333333332, 21.333333333333332, 27.0, 33.333333333333336, 40.333333333333336]|"
   ]
  },
  {
   "cell_type": "markdown",
   "metadata": {},
   "source": [
    "## Numpy\n",
    "Numpy is an important tool since it allows us to define and work with matrices. It is a library created for python. It should be included in the Anaconda installation, if you do not have it installed you can [install](https://anaconda.org/anaconda/numpy) it using `conda install -c anaconda numpy`\n",
    "If you are unfamiliar with numpy, have a look at this [brief tutorial](http://cs231n.github.io/python-numpy-tutorial/#numpy) explaining the basics. If you have used Matlab before, you might find [this tutorial](http://scipy.github.io/old-wiki/pages/NumPy_for_Matlab_Users) helpful. If you need a broader introduction check out [data camp's tutorial](https://www.datacamp.com/community/tutorials/python-numpy-tutorial#gs.0d8n3ZI). \n",
    "\n",
    "Once you have numpy set up, create a vertical vector of four random numbers. You can use the `numpy.random.rand` function for this.\n",
    "\n",
    "$$A=\\begin{bmatrix}\n",
    "         a \\\\\n",
    "         b \\\\\n",
    "         c\\\\\n",
    "         d\n",
    "        \\end{bmatrix}$$"
   ]
  },
  {
   "cell_type": "code",
   "execution_count": 7,
   "metadata": {
    "collapsed": true
   },
   "outputs": [],
   "source": [
    "#Import numpy\n",
    "import numpy as np"
   ]
  },
  {
   "cell_type": "code",
   "execution_count": 8,
   "metadata": {},
   "outputs": [],
   "source": [
    "#Set seed so we always get the same result\n",
    "np.random.seed(1)\n",
    "\n",
    "# Code goes here\n"
   ]
  },
  {
   "cell_type": "markdown",
   "metadata": {},
   "source": [
    "|Expected Result|\n",
    "|---------------|\n",
    "|[[  4.17022005e-01] [  7.20324493e-01] [  1.14374817e-04] [  3.02332573e-01]]|"
   ]
  },
  {
   "cell_type": "markdown",
   "metadata": {},
   "source": [
    "### Element wise operations\n",
    "Now create a second vector of the same dimensions. Perform an element wise addition and an element wise multiplication of the two vectors. Print the results.\n",
    "\n",
    "$$B=\\begin{bmatrix}\n",
    "         e \\\\\n",
    "         f \\\\\n",
    "         g\\\\\n",
    "         h\n",
    "        \\end{bmatrix}$$\n",
    "        \n",
    "$$C=\\begin{bmatrix}\n",
    "         a + e \\\\\n",
    "         b + f \\\\\n",
    "         c + g\\\\\n",
    "         d + h\n",
    "        \\end{bmatrix}$$\n",
    "        \n",
    "$$D=\\begin{bmatrix}\n",
    "         a * e \\\\\n",
    "         b * f \\\\\n",
    "         c * g\\\\\n",
    "         d * h\n",
    "        \\end{bmatrix}$$"
   ]
  },
  {
   "cell_type": "code",
   "execution_count": 9,
   "metadata": {},
   "outputs": [],
   "source": [
    "#Set seed so we always get the same result\n",
    "np.random.seed(2)\n",
    "\n",
    "# Code goes here\n"
   ]
  },
  {
   "cell_type": "markdown",
   "metadata": {},
   "source": [
    "|Expected Results|\n",
    "|------|---------------------------------------------------------|\n",
    "|B     |[[ 0.4359949 ] [ 0.02592623] [ 0.54966248] [ 0.43532239]]|\n",
    "|A + B |[[ 0.85301691] [ 0.74625073] [ 0.54977685] [ 0.73765497]]|\n",
    "|A * B |[[  1.81819468e-01] [  1.86752998e-02] [  6.28675455e-05] [  1.31612139e-01]]|"
   ]
  },
  {
   "cell_type": "markdown",
   "metadata": {},
   "source": [
    "### Dot products\n",
    "Calculate the outer and the inner product of the two vectors. You can use `numpy.dot` and the transpose operation for this. Print the results."
   ]
  },
  {
   "cell_type": "code",
   "execution_count": 10,
   "metadata": {},
   "outputs": [],
   "source": [
    "# Code goes here\n"
   ]
  },
  {
   "cell_type": "markdown",
   "metadata": {},
   "source": [
    "|Expected Result|\n",
    "|---------------|\n",
    "|[[  1.81819468e-01   1.08118092e-02   2.29221348e-01   1.81539017e-01]|\n",
    "| [  3.14057807e-01   1.86752998e-02   3.95935346e-01   3.13573382e-01]|\n",
    "| [  4.98668373e-05   2.96530803e-06   6.28675455e-05   4.97899191e-05]|\n",
    "| [  1.31815460e-01   7.83834437e-03   1.66180871e-01   1.31612139e-01]]|"
   ]
  },
  {
   "cell_type": "code",
   "execution_count": 11,
   "metadata": {},
   "outputs": [],
   "source": [
    "# Code goes here\n"
   ]
  },
  {
   "cell_type": "markdown",
   "metadata": {},
   "source": [
    "|Expected Result|\n",
    "|---------------|\n",
    "|[[ 0.33216977]]|"
   ]
  },
  {
   "cell_type": "markdown",
   "metadata": {},
   "source": [
    "## Pandas\n",
    "Finally we use Pandas to handle data. Again, it should be included in your anaconda installation. If it is not, follow the [installation instructions](https://pandas.pydata.org/pandas-docs/stable/install.html) While numpy does matrix operations, Pandas can handle files and table operations. I recommend you check out the [10 minutes to Pandas](https://pandas.pydata.org/pandas-docs/stable/10min.html) tutorial to get an overview. If you like a longer, more beginner friendly explanation, check out [data camp's take](https://www.datacamp.com/community/tutorials/pandas-tutorial-dataframe-python).\n",
    "\n",
    "Go to the [kaggle page of the titanic dataset](https://www.kaggle.com/c/titanic). We will be working with the dataset later in the course. To download it you will need a kaggle account. It is free and I recommend you create one, as kaggle is a great platform to practice your ML skills after the course. For now, just load the `train.csv` dataset calculate some basic descriptive statistics using Pandas `describe()` function."
   ]
  },
  {
   "cell_type": "code",
   "execution_count": 12,
   "metadata": {
    "collapsed": true
   },
   "outputs": [],
   "source": [
    "import pandas as pd"
   ]
  },
  {
   "cell_type": "code",
   "execution_count": 13,
   "metadata": {},
   "outputs": [],
   "source": [
    "# Code goes here\n"
   ]
  },
  {
   "cell_type": "markdown",
   "metadata": {
    "collapsed": true
   },
   "source": [
    "\n",
    "|**PassengerId**|**Survived**|**Pclass**|**Age**|**SibSp**|**Parch**|**Fare**\n",
    ":-----:|:-----:|:-----:|:-----:|:-----:|:-----:|:-----:|:-----:\n",
    "count|891.000000|891.000000|891.000000|714.000000|891.000000|891.000000|891.000000\n",
    "mean|446.000000|0.383838|2.308642|29.699118|0.523008|0.381594|32.204208\n",
    "std|257.353842|0.486592|0.836071|14.526497|1.102743|0.806057|49.693429\n",
    "min|1.000000|0.000000|1.000000|0.420000|0.000000|0.000000|0.000000\n",
    "25%|223.500000|0.000000|2.000000|20.125000|0.000000|0.000000|7.910400\n",
    "50%|446.000000|0.000000|3.000000|28.000000|0.000000|0.000000|14.454200\n",
    "75%|668.500000|1.000000|3.000000|38.000000|1.000000|0.000000|31.000000\n",
    "max|891.000000|1.000000|3.000000|80.000000|8.000000|6.000000|512.329200"
   ]
  },
  {
   "cell_type": "markdown",
   "metadata": {},
   "source": [
    "## Installing Keras\n",
    "In class, we will use Keras with a Tensorflow backend as a deep learning library. You can install Keras via anaconda with `conda install -c conda-forge keras`. For more information see the [Keras documentation](https://keras.io/#installation). If you have installed Keras, make sure that it works by importing it here."
   ]
  },
  {
   "cell_type": "code",
   "execution_count": 25,
   "metadata": {},
   "outputs": [
    {
     "name": "stderr",
     "output_type": "stream",
     "text": [
      "Using TensorFlow backend.\n"
     ]
    },
    {
     "name": "stdout",
     "output_type": "stream",
     "text": [
      "Couldn't import dot_parser, loading of dot files will not be possible.\n"
     ]
    }
   ],
   "source": [
    "import keras"
   ]
  },
  {
   "cell_type": "markdown",
   "metadata": {},
   "source": [
    "If you get an output like this you are in business:\n",
    "<img src=\"assets/keras.png\">"
   ]
  },
  {
   "cell_type": "markdown",
   "metadata": {},
   "source": [
    "## Final words\n",
    "If you managed to go through these introductory exercises and feel confident about it, congratulations!. You are ready for MLiFC. However, I recommend you that you have a look at some other data science tools and maybe play around with them before starting the course. It will give you a nice edge in the weekly competitions. A good tutorial on the titanic dataset we just worked with is on [kaggle](https://www.kaggle.com/helgejo/an-interactive-data-science-tutorial). A nice introduction into some important helper libraries for machine learning can be found on the [CS231 Website](http://cs231n.github.io/python-numpy-tutorial/)."
   ]
  }
 ],
 "metadata": {
  "anaconda-cloud": {},
  "kernelspec": {
   "display_name": "Python [default]",
   "language": "python",
   "name": "python3"
  },
  "language_info": {
   "codemirror_mode": {
    "name": "ipython",
    "version": 3
   },
   "file_extension": ".py",
   "mimetype": "text/x-python",
   "name": "python",
   "nbconvert_exporter": "python",
   "pygments_lexer": "ipython3",
   "version": "3.5.4"
  }
 },
 "nbformat": 4,
 "nbformat_minor": 2
}
